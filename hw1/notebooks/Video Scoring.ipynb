{
 "cells": [
  {
   "cell_type": "code",
   "execution_count": 1,
   "id": "4b94b2e0-3796-411b-ad82-1b56e7f89e1f",
   "metadata": {},
   "outputs": [],
   "source": [
    "import pyspark\n",
    "from pyspark.sql.functions import *\n",
    "from pyspark.sql.types import *\n",
    "from pyspark.sql import SparkSession\n",
    "\n",
    "import pandas as pd\n",
    "import random\n"
   ]
  },
  {
   "cell_type": "code",
   "execution_count": 2,
   "id": "7d28b0ea-0023-49e5-b6df-9b3a396d4679",
   "metadata": {},
   "outputs": [],
   "source": [
    "spark = SparkSession.builder.master(\"local\") \\\n",
    "    .config('spark.sql.autoBroadcastJoinThreshold', 0) \\\n",
    "    .config('spark.sql.adaptive.enabled', 'false') \\\n",
    "    .getOrCreate()"
   ]
  },
  {
   "cell_type": "code",
   "execution_count": 3,
   "id": "1c2a19f1-09d4-433b-bb14-495e1f69bf43",
   "metadata": {},
   "outputs": [
    {
     "name": "stdout",
     "output_type": "stream",
     "text": [
      "+-----------+--------------------+--------------------+-----------+--------------------+-------+------+--------+-------------+--------------------+-----+\n",
      "|   video_id|               title|       channel_title|category_id|                tags|  views| likes|dislikes|comment_total|      thumbnail_link| date|\n",
      "+-----------+--------------------+--------------------+-----------+--------------------+-------+------+--------+-------------+--------------------+-----+\n",
      "|XpVt6Z1Gjjo|1 YEAR OF VLOGGIN...|    Logan Paul Vlogs|         24|logan paul vlog|l...|4394029|320053|    5931|        46245|https://i.ytimg.c...|13.09|\n",
      "|K4wEI5zhHB0|iPhone X — Introd...|               Apple|         28|Apple|iPhone 10|i...|7860119|185853|   26679|            0|https://i.ytimg.c...|13.09|\n",
      "|cLdxuaxaQwc|         My Response|           PewDiePie|         22|              [none]|5845909|576597|   39774|       170708|https://i.ytimg.c...|13.09|\n",
      "|WYYvHb03Eog|Apple iPhone X fi...|           The Verge|         28|apple iphone x ha...|2642103| 24975|    4542|        12829|https://i.ytimg.c...|13.09|\n",
      "|sjlHnJvXdQs|   iPhone X (parody)|          jacksfilms|         23|jacksfilms|parody...|1168130| 96666|     568|         6666|https://i.ytimg.c...|13.09|\n",
      "|cMKX2tE5Luk|The Disaster Arti...|                 A24|          1|a24|a24 films|a24...|1311445| 34507|     544|         3040|https://i.ytimg.c...|13.09|\n",
      "|8wNr-NQImFg|The Check In: HUD...|Late Night with S...|         23|Late night|Seth M...| 666169|  9985|     297|         1071|https://i.ytimg.c...|13.09|\n",
      "|_HTXMhKWqnA|iPhone X Impressi...|    Marques Brownlee|         28|iPhone X|iphone x...|1728614| 74062|    2180|        15297|https://i.ytimg.c...|13.09|\n",
      "|_ANP3HR1jsM|ATTACKED BY A POL...|    RomanAtwoodVlogs|         22|Roman Atwood|Roma...|1338533| 69687|     678|         5643|https://i.ytimg.c...|13.09|\n",
      "|zgLtEob6X-Q|Honest Trailers -...|      Screen Junkies|          1|screenjunkies|scr...|1056891| 29943|     878|         4046|https://i.ytimg.c...|13.09|\n",
      "|Ayb_2qbZHm4| Honest College Tour|        CollegeHumor|         23|Collegehumor|CH o...| 859289| 34485|     726|         1914|https://i.ytimg.c...|13.09|\n",
      "|CsdzflTXBVQ|Best Floyd Maywea...|     Awkward Puppets|         23|best floyd maywea...| 452477| 28050|     405|         2745|https://i.ytimg.c...|13.09|\n",
      "|l864IBj7cgw|Jennifer Lawrence...|The Tonight Show ...|         23|The Tonight Show|...| 258781|  8085|     303|          726|https://i.ytimg.c...|13.09|\n",
      "|4MkC65emkG4|Hand In Hand A Be...|                 MTV|         24|mtv|video|online|...| 274358|  9215|     477|          838|https://i.ytimg.c...|13.09|\n",
      "|vu_9muoxT50|Colin Cloud: Mind...|America's Got Talent|         24|America's Got Tal...| 473691| 14740|     415|         1696|https://i.ytimg.c...|13.09|\n",
      "|1L7JFN7tQLs|iPhone X Hands on...|   Jonathan Morrison|         28|Apple|iPhone X|iP...| 514972| 18936|     641|         3817|https://i.ytimg.c...|13.09|\n",
      "|ZQK1F0wz6z4|What Do You Want ...| Wong Fu Productions|         24|panda|what should...| 282858| 14870|     300|         1398|https://i.ytimg.c...|13.09|\n",
      "|T_PuZBdT2iM|getting into a co...|               ProZD|          1|skit|korean|langu...|1582683| 65749|    1531|         3598|https://i.ytimg.c...|13.09|\n",
      "|w8fAellnPns|Juicy Chicken Bre...| You Suck At Cooking|         26|how to|cooking|re...| 479951| 23945|     640|         1941|https://i.ytimg.c...|13.09|\n",
      "|UCrBICYM0yM|Downsizing (2017)...|  Paramount Pictures|          1|downsizing|previe...|2693468|  7941|     302|         1432|https://i.ytimg.c...|13.09|\n",
      "+-----------+--------------------+--------------------+-----------+--------------------+-------+------+--------+-------------+--------------------+-----+\n",
      "only showing top 20 rows\n",
      "\n"
     ]
    }
   ],
   "source": [
    "videos = spark.read.option('header', 'true').option(\"inferSchema\", \"true\").csv('../datasets/USvideos.csv')\n",
    "videos.show()"
   ]
  },
  {
   "cell_type": "code",
   "execution_count": 4,
   "id": "7c87fbff-1787-4bc9-9677-261bdd537d34",
   "metadata": {},
   "outputs": [
    {
     "data": {
      "text/plain": [
       "7998"
      ]
     },
     "execution_count": 4,
     "metadata": {},
     "output_type": "execute_result"
    }
   ],
   "source": [
    "videos.count()"
   ]
  },
  {
   "cell_type": "code",
   "execution_count": 5,
   "id": "fa372967-3c67-48d3-9f54-1fa644d5444c",
   "metadata": {},
   "outputs": [
    {
     "data": {
      "text/plain": [
       "7997"
      ]
     },
     "execution_count": 5,
     "metadata": {},
     "output_type": "execute_result"
    }
   ],
   "source": [
    "videos.drop_duplicates().count()"
   ]
  },
  {
   "cell_type": "code",
   "execution_count": 6,
   "id": "76db6e4a-2e7c-444f-bcb0-3c9396f6556e",
   "metadata": {},
   "outputs": [],
   "source": [
    "videos = videos.drop_duplicates()"
   ]
  },
  {
   "cell_type": "code",
   "execution_count": 7,
   "id": "ce89e9b2-9ac2-4358-8a01-aae545c17f9c",
   "metadata": {},
   "outputs": [
    {
     "data": {
      "text/plain": [
       "2364"
      ]
     },
     "execution_count": 7,
     "metadata": {},
     "output_type": "execute_result"
    }
   ],
   "source": [
    "videos.select(\"video_id\").drop_duplicates().count()"
   ]
  },
  {
   "cell_type": "code",
   "execution_count": 8,
   "id": "805005cc-0c92-45e3-ab79-44a348f9c2d3",
   "metadata": {},
   "outputs": [
    {
     "name": "stdout",
     "output_type": "stream",
     "text": [
      "+-----------+--------------------+-----+-------+\n",
      "|   video_id|        comment_text|likes|replies|\n",
      "+-----------+--------------------+-----+-------+\n",
      "|XpVt6Z1Gjjo|Logan Paul it's y...|    4|      0|\n",
      "|XpVt6Z1Gjjo|I've been followi...|    3|      0|\n",
      "|XpVt6Z1Gjjo|Say hi to Kong an...|    3|      0|\n",
      "|XpVt6Z1Gjjo| MY FAN . attendance|    3|      0|\n",
      "|XpVt6Z1Gjjo|         trending 😉|    3|      0|\n",
      "|XpVt6Z1Gjjo|#1 on trending AY...|    3|      0|\n",
      "|XpVt6Z1Gjjo|The end though 😭...|    4|      0|\n",
      "|XpVt6Z1Gjjo|#1 trending!!!!!!!!!|    3|      0|\n",
      "|XpVt6Z1Gjjo|Happy one year vl...|    3|      0|\n",
      "|XpVt6Z1Gjjo|You and your shit...|    0|      0|\n",
      "|XpVt6Z1Gjjo|There should be a...|    0|      0|\n",
      "|XpVt6Z1Gjjo|Dear Logan, I rea...|    0|      0|\n",
      "|XpVt6Z1Gjjo|Honestly Evan is ...|    0|      0|\n",
      "|XpVt6Z1Gjjo|Casey is still be...|    0|      0|\n",
      "|XpVt6Z1Gjjo|aw geez rick this...|    0|      0|\n",
      "|XpVt6Z1Gjjo|He happy cause he...|    0|      0|\n",
      "|XpVt6Z1Gjjo|Ayyyyoooo Logang ...|    1|      0|\n",
      "|XpVt6Z1Gjjo|Bro y didnt u giv...|    0|      0|\n",
      "|XpVt6Z1Gjjo|It's been fun wat...|    3|      0|\n",
      "|XpVt6Z1Gjjo|Made a lot of peo...|    0|      0|\n",
      "+-----------+--------------------+-----+-------+\n",
      "only showing top 20 rows\n",
      "\n"
     ]
    }
   ],
   "source": [
    "comments_schema = StructType([ \\\n",
    "    StructField(\"video_id\", StringType(), True), \\\n",
    "    StructField(\"comment_text\", StringType(), True), \\\n",
    "    StructField(\"likes\", IntegerType(), True), \\\n",
    "    StructField(\"replies\", IntegerType(), True)])\n",
    "comments = spark.read.option('header', 'true').option(\"mode\", \"DROPMALFORMED\").schema(comments_schema).csv('../datasets/UScomments.csv')\n",
    "comments.show()"
   ]
  },
  {
   "cell_type": "code",
   "execution_count": 9,
   "id": "42a166b4-5280-413f-823a-abb276e0eb14",
   "metadata": {},
   "outputs": [],
   "source": [
    "DATA_PATH = \"../datasets\""
   ]
  },
  {
   "cell_type": "code",
   "execution_count": 10,
   "id": "e34618dc-c335-4565-add7-a5a5d5a1d433",
   "metadata": {},
   "outputs": [],
   "source": [
    "def rand(): \n",
    "    return random.randint(0, 3) \n",
    "    \n",
    "rand_udf = udf(rand)\n",
    "salt_df = spark.range(0, 4)\n"
   ]
  },
  {
   "cell_type": "code",
   "execution_count": 11,
   "id": "309ead91-12cc-4a42-9344-741927a8ec57",
   "metadata": {},
   "outputs": [],
   "source": [
    "comments_aggregated = comments.groupBy('video_id').sum()\n"
   ]
  },
  {
   "cell_type": "code",
   "execution_count": 12,
   "id": "d7162618-18b3-4f5d-89f7-93597a540e6e",
   "metadata": {},
   "outputs": [
    {
     "data": {
      "text/plain": [
       "['video_id', 'sum(likes)', 'sum(replies)']"
      ]
     },
     "execution_count": 12,
     "metadata": {},
     "output_type": "execute_result"
    }
   ],
   "source": [
    "comments_aggregated.columns"
   ]
  },
  {
   "cell_type": "code",
   "execution_count": 13,
   "id": "9a68b768-c1de-490d-b8eb-239128528c41",
   "metadata": {},
   "outputs": [],
   "source": [
    "videos_with_comments = videos.join(broadcast(comments_aggregated), \"video_id\", \"left\")"
   ]
  },
  {
   "cell_type": "code",
   "execution_count": 14,
   "id": "aed68904-0082-4057-b64f-68a7abebf3e1",
   "metadata": {},
   "outputs": [],
   "source": [
    "# бродкаст меньшего дф"
   ]
  },
  {
   "cell_type": "markdown",
   "id": "19b3ab52-1fbf-45aa-931e-4bdb01706756",
   "metadata": {},
   "source": [
    "# task 1"
   ]
  },
  {
   "cell_type": "markdown",
   "id": "9b1bba7b-dba6-43b8-ac37-7b2b47bf83f8",
   "metadata": {},
   "source": [
    "score = (1/100) * views + 10 * likes - 15 * dislikes + sqrt(comment_total) + 0.5 * sum(likes) + 3 * sum(replies)"
   ]
  },
  {
   "cell_type": "code",
   "execution_count": 15,
   "id": "042d9b8b-a14a-4744-bb4e-00154a37a433",
   "metadata": {},
   "outputs": [],
   "source": [
    "scored_videos = videos_with_comments.fillna(0).withColumn('score', 0.01 * col('views') + 10 * col('likes') \n",
    "                           - 15 * col('dislikes') + sqrt(col('comment_total')) + 0.5 * col('sum(likes)')\n",
    "                                 + 3 * col('sum(replies)'))"
   ]
  },
  {
   "cell_type": "code",
   "execution_count": 16,
   "id": "43971b84-38bd-49b2-a858-d529760ed772",
   "metadata": {},
   "outputs": [
    {
     "name": "stdout",
     "output_type": "stream",
     "text": [
      "+-----------+--------------------+-------+-----+--------+-------------+------------------+\n",
      "|   video_id|               title|  views|likes|dislikes|comment_total|             score|\n",
      "+-----------+--------------------+-------+-----+--------+-------------+------------------+\n",
      "|vu_9muoxT50|Colin Cloud: Mind...| 990274|22897|     639|         2430|229364.53503017547|\n",
      "|uBGECC5U09Q|Everything Wrong ...|1596548|37556|    1144|         6731|374468.52267182386|\n",
      "|lno7AN8hLvQ|My Butt Has Some ...| 240137|12298|     554|         2044|117140.58061822182|\n",
      "|Eat7nKj_30o|Massive earthquak...|1028351| 4606|    1846|         4068| 29121.79087487641|\n",
      "|cWfTBkTJOH8|Diving with Sea T...| 433887|16784|     206|         2858|169162.33026561848|\n",
      "|HjkmacUCJw8|2017 Emmy Fashion...|  39113|  140|      74|          130|1775.5317542509915|\n",
      "|8F_eHiMYQjg|Saquon Barkley 85...|  28694|  143|       2|           82|1849.9953851381374|\n",
      "|yIq-N7m0upU|Taking Everything...|1008102|71323|    1003|         4886| 735638.4199284692|\n",
      "|AYyXQcuo8wA|   Quindar: Sound #2|   2722|    3|       0|            0|             57.22|\n",
      "|R-4a_mQQTpc|Gökhan Saki KOs H...| 533604| 2954|      96|         1000| 33600.66277660168|\n",
      "+-----------+--------------------+-------+-----+--------+-------------+------------------+\n",
      "only showing top 10 rows\n",
      "\n"
     ]
    }
   ],
   "source": [
    "scored_videos.select('video_id', 'title', 'views', 'likes', 'dislikes', 'comment_total', 'score').show(10)"
   ]
  },
  {
   "cell_type": "code",
   "execution_count": 17,
   "id": "005583e7-e51d-4a47-a55c-634b76cb0048",
   "metadata": {},
   "outputs": [],
   "source": [
    "scored_videos_agg = scored_videos.groupBy('video_id', 'title').sum('score')"
   ]
  },
  {
   "cell_type": "code",
   "execution_count": 18,
   "id": "66ea3fc9-2873-43d9-b746-fb7636978460",
   "metadata": {},
   "outputs": [
    {
     "name": "stdout",
     "output_type": "stream",
     "text": [
      "+-----------+--------------------+-------------------+\n",
      "|   video_id|               title|         sum(score)|\n",
      "+-----------+--------------------+-------------------+\n",
      "|sNSzJiF4sB8|Chance The Rapper...|  538.6774468787578|\n",
      "|Uw3eeaFT5Rw|My Top 3 Drugstor...| 115074.33281475658|\n",
      "|3y5A4paFOb4|Logan Paul - Outt...|5.239298140833002E7|\n",
      "|cPZ3u1z8kU0|Emmalyn - Self Ca...|  8023.514402419595|\n",
      "|HsiWOp-ImoE|HURRY UP! by SUPE...| 1229760.1635473885|\n",
      "|NheUm_izr6A|Tim McGraw, Faith...| 61249.469918559145|\n",
      "|QJVlhvyLmPw|The Ford GT drive...| 3676.3889794855663|\n",
      "|xGzppQWQvq0|Darius Rucker - T...| 51859.525789009895|\n",
      "|IvFw9zhIYkQ|TOMB RAIDER - The...|  81812.17811212421|\n",
      "|tbDr_zAcM5g|David Lynch Comme...|  2559.391570966068|\n",
      "+-----------+--------------------+-------------------+\n",
      "only showing top 10 rows\n",
      "\n"
     ]
    }
   ],
   "source": [
    "scored_videos_agg.show(10)"
   ]
  },
  {
   "cell_type": "code",
   "execution_count": 19,
   "id": "e836d559-b726-4313-be14-833e2b4f2ab4",
   "metadata": {},
   "outputs": [],
   "source": [
    "scored_videos_agg.toPandas().to_csv(f'{DATA_PATH}/scored_videos.csv')"
   ]
  },
  {
   "cell_type": "markdown",
   "id": "66166806-9bd8-474c-ab91-33019e5fccc2",
   "metadata": {},
   "source": [
    "# task 2"
   ]
  },
  {
   "cell_type": "code",
   "execution_count": 20,
   "id": "afd56355-cc4f-403a-9578-61ecbe7e6b37",
   "metadata": {},
   "outputs": [
    {
     "name": "stderr",
     "output_type": "stream",
     "text": [
      "/usr/local/spark/python/pyspark/sql/pandas/functions.py:399: UserWarning: In Python 3.6+ and Spark 3.0+, it is preferred to specify type hints for pandas UDF instead of specifying pandas UDF type which will be deprecated in the future releases. See SPARK-28264 for more details.\n",
      "  warnings.warn(\n"
     ]
    }
   ],
   "source": [
    "@pandas_udf(\"double\", PandasUDFType.GROUPED_AGG)\n",
    "def median_udf(v):\n",
    "    return v.median()"
   ]
  },
  {
   "cell_type": "code",
   "execution_count": 21,
   "id": "813d2066-1dd4-42d8-9ad5-28e194f61409",
   "metadata": {},
   "outputs": [],
   "source": [
    "category_id = pd.read_json(f'{DATA_PATH}/US_category_id.json')\n"
   ]
  },
  {
   "cell_type": "code",
   "execution_count": 22,
   "id": "d55dd0a4-2a36-44a8-b514-4e682d43b593",
   "metadata": {},
   "outputs": [],
   "source": [
    "categories = [(i['id'], i['snippet']['title']) for i in category_id['items'].to_list()]"
   ]
  },
  {
   "cell_type": "code",
   "execution_count": 23,
   "id": "bbf022b8-5c90-4b37-a567-fe7d3eb76300",
   "metadata": {},
   "outputs": [],
   "source": [
    "columns = [\"category_id\",\"title\"]\n",
    "category_df = spark.createDataFrame(data=categories, schema = columns)"
   ]
  },
  {
   "cell_type": "code",
   "execution_count": 26,
   "id": "84385ee7-4620-43da-ba82-a760e7aebaed",
   "metadata": {},
   "outputs": [],
   "source": [
    "categories_score = scored_videos.groupBy('category_id').agg(median_udf(scored_videos['score']))"
   ]
  },
  {
   "cell_type": "code",
   "execution_count": 25,
   "id": "9c050741-717b-4343-8518-517e17d41430",
   "metadata": {},
   "outputs": [],
   "source": [
    "categories_score = categories_score.join(broadcast(category_df), \"category_id\", \"left\")"
   ]
  },
  {
   "cell_type": "code",
   "execution_count": 27,
   "id": "123eb613-f6a3-4c7c-90e2-9ad1ab7e3348",
   "metadata": {},
   "outputs": [],
   "source": [
    "# по логике тут вообще оптимизировать смысла не имеет - оба дф маленькие, но предположим что один из них меньше"
   ]
  },
  {
   "cell_type": "code",
   "execution_count": 28,
   "id": "d37d73fe-6ac6-40c9-a0b5-8b74ce94d3c1",
   "metadata": {},
   "outputs": [
    {
     "name": "stdout",
     "output_type": "stream",
     "text": [
      "+-----------+------------------+\n",
      "|category_id| median_udf(score)|\n",
      "+-----------+------------------+\n",
      "|         28|102903.86358260454|\n",
      "|         26|126200.46018588994|\n",
      "|         27| 79998.44713047001|\n",
      "|         22|101496.21589471283|\n",
      "|          1| 66313.44580448601|\n",
      "|         20| 40213.25209422822|\n",
      "|         19| 82802.32745776343|\n",
      "|         15| 76319.85694380733|\n",
      "|         43|1195.0077625302981|\n",
      "|         17|16948.421900349353|\n",
      "|         23|252882.44692637963|\n",
      "|         10|107185.15181449405|\n",
      "|         25| 6684.407448713916|\n",
      "|         24| 85696.83696125855|\n",
      "|         29| 5696.682886552931|\n",
      "|          2| 13876.75154961165|\n",
      "+-----------+------------------+\n",
      "\n"
     ]
    }
   ],
   "source": [
    "categories_score.show()"
   ]
  },
  {
   "cell_type": "code",
   "execution_count": 29,
   "id": "58776365-0623-4249-baca-126e315ba9a9",
   "metadata": {},
   "outputs": [],
   "source": [
    "categories_score.toPandas().to_csv(f'{DATA_PATH}/categories_score.csv')"
   ]
  },
  {
   "cell_type": "markdown",
   "id": "a55e899c-d900-4c94-8d32-8494b8194ed8",
   "metadata": {},
   "source": [
    "# task 3"
   ]
  },
  {
   "cell_type": "code",
   "execution_count": 30,
   "id": "27520b77-8b00-4482-a9c6-009f2e3e6ffc",
   "metadata": {},
   "outputs": [
    {
     "name": "stdout",
     "output_type": "stream",
     "text": [
      "root\n",
      " |-- video_id: string (nullable = true)\n",
      " |-- title: string (nullable = true)\n",
      " |-- channel_title: string (nullable = true)\n",
      " |-- category_id: integer (nullable = true)\n",
      " |-- tags: string (nullable = true)\n",
      " |-- views: integer (nullable = true)\n",
      " |-- likes: integer (nullable = true)\n",
      " |-- dislikes: integer (nullable = true)\n",
      " |-- comment_total: integer (nullable = true)\n",
      " |-- thumbnail_link: string (nullable = true)\n",
      " |-- date: string (nullable = true)\n",
      "\n"
     ]
    }
   ],
   "source": [
    "videos.printSchema()"
   ]
  },
  {
   "cell_type": "code",
   "execution_count": 31,
   "id": "33e13397-eaf2-4ec7-9aad-0393bb3d84bc",
   "metadata": {},
   "outputs": [
    {
     "name": "stderr",
     "output_type": "stream",
     "text": [
      "/usr/local/spark/python/pyspark/sql/pandas/functions.py:399: UserWarning: In Python 3.6+ and Spark 3.0+, it is preferred to specify type hints for pandas UDF instead of specifying pandas UDF type which will be deprecated in the future releases. See SPARK-28264 for more details.\n",
      "  warnings.warn(\n"
     ]
    }
   ],
   "source": [
    "import timeit\n",
    "\n",
    "@pandas_udf(\"array<string>\", PandasUDFType.SCALAR)\n",
    "def split_udf(v):\n",
    "    return v.str.split(\"|\")"
   ]
  },
  {
   "cell_type": "code",
   "execution_count": 32,
   "id": "37f58e68-0281-4671-8569-943b0c4a4b4e",
   "metadata": {},
   "outputs": [
    {
     "name": "stdout",
     "output_type": "stream",
     "text": [
      "425 ms ± 19.7 ms per loop (mean ± std. dev. of 7 runs, 1 loop each)\n"
     ]
    }
   ],
   "source": [
    "%timeit for x in range(100): split_udf(col(\"tags\"))"
   ]
  },
  {
   "cell_type": "code",
   "execution_count": 33,
   "id": "91fae11c-ea67-44ac-9e49-17452bf1cd64",
   "metadata": {},
   "outputs": [
    {
     "name": "stdout",
     "output_type": "stream",
     "text": [
      "+--------------------+\n",
      "|     split_udf(tags)|\n",
      "+--------------------+\n",
      "|[America's Got Ta...|\n",
      "|[alien, alien cov...|\n",
      "|            [[none]]|\n",
      "|[mexico, earthqua...|\n",
      "|[adventure, adven...|\n",
      "|[Access Hollywood...|\n",
      "|[penn state nitta...|\n",
      "|[taking everythin...|\n",
      "|[administracja, l...|\n",
      "|[fox, fox sports,...|\n",
      "|[What What Happen...|\n",
      "|[kungs, more mess...|\n",
      "|[iphone x by pine...|\n",
      "|[jeffree star, ve...|\n",
      "|[iphone 8, iphone...|\n",
      "|[fleurdeforce, fl...|\n",
      "|[cars, climbkhana...|\n",
      "|[Shay Mitchell, S...|\n",
      "|[a24, a24 films, ...|\n",
      "|[Shania Twain, Sh...|\n",
      "+--------------------+\n",
      "only showing top 20 rows\n",
      "\n"
     ]
    }
   ],
   "source": [
    "videos.select(split_udf(col(\"tags\"))).show()"
   ]
  },
  {
   "cell_type": "code",
   "execution_count": 34,
   "id": "01b8da4a-6dc5-4c01-9f7f-0286769fec3f",
   "metadata": {},
   "outputs": [],
   "source": [
    "from pyspark.sql.column import _to_java_column\n",
    "from pyspark.sql.column import _to_seq\n",
    "\n",
    "sc = spark.sparkContext\n",
    "\n",
    "def splitTagsUDFWrapper(row):\n",
    "    _ipToIntUDF = sc._jvm.CustomUDFs.splitTagsUDF()\n",
    "    return Column(_ipToIntUDF.apply(_to_seq(sc, [row], _to_java_column)))"
   ]
  },
  {
   "cell_type": "code",
   "execution_count": 35,
   "id": "0a0e36f1-d512-4fb7-a187-54b0965164d2",
   "metadata": {},
   "outputs": [
    {
     "name": "stdout",
     "output_type": "stream",
     "text": [
      "513 ms ± 37.8 ms per loop (mean ± std. dev. of 7 runs, 1 loop each)\n"
     ]
    }
   ],
   "source": [
    "%timeit for x in range(100): splitTagsUDFWrapper(col(\"tags\"))"
   ]
  },
  {
   "cell_type": "code",
   "execution_count": 36,
   "id": "51aea7a3-4c4f-499c-b8f6-0cb078a4e273",
   "metadata": {},
   "outputs": [],
   "source": [
    "map = videos.select(split_udf(col(\"tags\"))).rdd.flatMap(lambda x: \n",
    "                                                        x).flatMap(lambda x: x).countByValue().items()"
   ]
  },
  {
   "cell_type": "code",
   "execution_count": 37,
   "id": "b1ab009b-dc46-42d1-a49c-6ff446b742aa",
   "metadata": {},
   "outputs": [
    {
     "name": "stdout",
     "output_type": "stream",
     "text": [
      "root\n",
      " |-- tag: string (nullable = true)\n",
      " |-- count: long (nullable = true)\n",
      "\n",
      "+--------------------+-----+\n",
      "|                 tag|count|\n",
      "+--------------------+-----+\n",
      "|America's Got Tal...|   13|\n",
      "|america's got talent|   16|\n",
      "|america's got tal...|   13|\n",
      "|america's got tal...|   13|\n",
      "|america's got tal...|   13|\n",
      "|                 AGT|   13|\n",
      "|  AGT 2017 auditions|   13|\n",
      "|  AGT best auditions|   13|\n",
      "|                 NBC|  118|\n",
      "|                  TV|   49|\n",
      "|            TV Shows|   13|\n",
      "|          Highlights|   21|\n",
      "|            Previews|   13|\n",
      "|        Simon Cowell|   13|\n",
      "|        Howie Mandel|   13|\n",
      "|          Tyra Banks|   13|\n",
      "|          Heidi Klum|   14|\n",
      "|               Mel B|   13|\n",
      "|           season 12|   50|\n",
      "|           America's|   13|\n",
      "+--------------------+-----+\n",
      "only showing top 20 rows\n",
      "\n"
     ]
    }
   ],
   "source": [
    "popular_tags = spark.createDataFrame(data=map, schema = [\"tag\", \"count\"])\n",
    "popular_tags.printSchema()\n",
    "popular_tags.show()"
   ]
  },
  {
   "cell_type": "code",
   "execution_count": 38,
   "id": "e9d4c550-0a35-40d4-83f9-ca23fb095fef",
   "metadata": {},
   "outputs": [],
   "source": [
    "popular_tags.toPandas().to_csv(f'{DATA_PATH}/popular_tags.csv')"
   ]
  },
  {
   "cell_type": "markdown",
   "id": "ebadd1cc-fac8-4fff-ab5a-f42dec9dc77b",
   "metadata": {},
   "source": [
    "# task 4"
   ]
  },
  {
   "cell_type": "code",
   "execution_count": 39,
   "id": "68c9d4fb-1e67-4b59-8e86-d53fb6850086",
   "metadata": {},
   "outputs": [],
   "source": [
    "cat_tags = (lower(col('tags')).startswith('cat|') | lower(col('tags')).contains('|cat|') \n",
    "           | lower(col('tags')).endswith('|cat'))\n",
    "\n",
    "\n",
    "has_comments = (col('comment_total')>0)\n",
    "\n",
    "cat_video = videos.filter(cat_tags & has_comments)"
   ]
  },
  {
   "cell_type": "code",
   "execution_count": 40,
   "id": "ff26e4a1-8b30-46a0-b9f8-e556b0a1aba0",
   "metadata": {},
   "outputs": [
    {
     "name": "stdout",
     "output_type": "stream",
     "text": [
      "+--------------------+\n",
      "|                tags|\n",
      "+--------------------+\n",
      "|cats|cat|kittens|...|\n",
      "|cat|dog|cute|gami...|\n",
      "|cartoon|simons ca...|\n",
      "|cartoon|simons ca...|\n",
      "|colleen ballinger...|\n",
      "|Husky's First How...|\n",
      "|cat|dog|cute|gami...|\n",
      "|cartoon|simons ca...|\n",
      "|cartoon|simons ca...|\n",
      "|cat|dog|cute|gami...|\n",
      "+--------------------+\n",
      "only showing top 10 rows\n",
      "\n"
     ]
    }
   ],
   "source": [
    "cat_video.select('tags').show(10)"
   ]
  },
  {
   "cell_type": "code",
   "execution_count": 41,
   "id": "6e465324-19f3-4416-b492-004a30b9e3e9",
   "metadata": {},
   "outputs": [],
   "source": [
    "salted_comments = comments.withColumn(\"salted_video_id\", concat(\"video_id\", lit(\"_\"), lit(rand_udf())))"
   ]
  },
  {
   "cell_type": "code",
   "execution_count": 42,
   "id": "a123ba5b-1ac9-4eba-86e3-cc672afe77ac",
   "metadata": {},
   "outputs": [
    {
     "name": "stdout",
     "output_type": "stream",
     "text": [
      "+-----------+--------------------+-----+-------+---------------+\n",
      "|   video_id|        comment_text|likes|replies|salted_video_id|\n",
      "+-----------+--------------------+-----+-------+---------------+\n",
      "|XpVt6Z1Gjjo|Logan Paul it's y...|    4|      0|  XpVt6Z1Gjjo_0|\n",
      "|XpVt6Z1Gjjo|I've been followi...|    3|      0|  XpVt6Z1Gjjo_1|\n",
      "|XpVt6Z1Gjjo|Say hi to Kong an...|    3|      0|  XpVt6Z1Gjjo_2|\n",
      "|XpVt6Z1Gjjo| MY FAN . attendance|    3|      0|  XpVt6Z1Gjjo_3|\n",
      "|XpVt6Z1Gjjo|         trending 😉|    3|      0|  XpVt6Z1Gjjo_1|\n",
      "|XpVt6Z1Gjjo|#1 on trending AY...|    3|      0|  XpVt6Z1Gjjo_1|\n",
      "|XpVt6Z1Gjjo|The end though 😭...|    4|      0|  XpVt6Z1Gjjo_2|\n",
      "|XpVt6Z1Gjjo|#1 trending!!!!!!!!!|    3|      0|  XpVt6Z1Gjjo_1|\n",
      "|XpVt6Z1Gjjo|Happy one year vl...|    3|      0|  XpVt6Z1Gjjo_2|\n",
      "|XpVt6Z1Gjjo|You and your shit...|    0|      0|  XpVt6Z1Gjjo_1|\n",
      "+-----------+--------------------+-----+-------+---------------+\n",
      "only showing top 10 rows\n",
      "\n"
     ]
    }
   ],
   "source": [
    "salted_comments.show(10)"
   ]
  },
  {
   "cell_type": "code",
   "execution_count": 43,
   "id": "e7088bf4-148f-45e0-900d-9f20af081276",
   "metadata": {},
   "outputs": [],
   "source": [
    "# ниже солю, допуская кейс, что у каких-то видео может быть слишком много комментов а у каких-то мало"
   ]
  },
  {
   "cell_type": "code",
   "execution_count": 44,
   "id": "7961d87a-5574-47d6-bcfe-ce4fd2ce798f",
   "metadata": {},
   "outputs": [],
   "source": [
    "salted_cat_video = cat_video.join(salt_df, \n",
    "                            how=\"cross\").withColumn(\"salted_video_id\", concat(\"video_id\", lit(\"_\"), \"id\")).drop(\"id\")\n",
    "\n",
    "salted_joined_df = salted_cat_video.join(salted_comments.withColumnRenamed( 'likes', 'comment_likes').drop('video_id'), on=\"salted_video_id\", how=\"inner\")\n"
   ]
  },
  {
   "cell_type": "code",
   "execution_count": 45,
   "id": "c8c8e7e9-3a03-40f2-a52c-878b4c12b5aa",
   "metadata": {},
   "outputs": [
    {
     "name": "stdout",
     "output_type": "stream",
     "text": [
      "+---------------+-----------+--------------------+-------------+-----------+--------------------+------+-----+--------+-------------+--------------------+-----+--------------------+-------------+-------+\n",
      "|salted_video_id|   video_id|               title|channel_title|category_id|                tags| views|likes|dislikes|comment_total|      thumbnail_link| date|        comment_text|comment_likes|replies|\n",
      "+---------------+-----------+--------------------+-------------+-----------+--------------------+------+-----+--------+-------------+--------------------+-----+--------------------+-------------+-------+\n",
      "|  xbBMVa2A68s_2|xbBMVa2A68s|Cat vs Dog - Best...|      TierZoo|         20|cat|dog|cute|gami...|320175|19593|     608|         4904|https://i.ytimg.c...|17.10|The second I read...|         2355|     15|\n",
      "|  xbBMVa2A68s_2|xbBMVa2A68s|Cat vs Dog - Best...|      TierZoo|         20|cat|dog|cute|gami...|370320|21325|     694|         5356|https://i.ytimg.c...|20.10|The second I read...|         2355|     15|\n",
      "|  xbBMVa2A68s_2|xbBMVa2A68s|Cat vs Dog - Best...|      TierZoo|         20|cat|dog|cute|gami...|356211|20865|     680|         5202|https://i.ytimg.c...|18.10|The second I read...|         2355|     15|\n",
      "|  xbBMVa2A68s_2|xbBMVa2A68s|Cat vs Dog - Best...|      TierZoo|         20|cat|dog|cute|gami...|373506|21420|     696|         5412|https://i.ytimg.c...|21.10|The second I read...|         2355|     15|\n",
      "|  xbBMVa2A68s_2|xbBMVa2A68s|Cat vs Dog - Best...|      TierZoo|         20|cat|dog|cute|gami...|366255|21196|     690|         5293|https://i.ytimg.c...|19.10|The second I read...|         2355|     15|\n",
      "|  xbBMVa2A68s_3|xbBMVa2A68s|Cat vs Dog - Best...|      TierZoo|         20|cat|dog|cute|gami...|320175|19593|     608|         4904|https://i.ytimg.c...|17.10|talk about the oc...|         1070|     32|\n",
      "|  xbBMVa2A68s_3|xbBMVa2A68s|Cat vs Dog - Best...|      TierZoo|         20|cat|dog|cute|gami...|370320|21325|     694|         5356|https://i.ytimg.c...|20.10|talk about the oc...|         1070|     32|\n",
      "|  xbBMVa2A68s_3|xbBMVa2A68s|Cat vs Dog - Best...|      TierZoo|         20|cat|dog|cute|gami...|356211|20865|     680|         5202|https://i.ytimg.c...|18.10|talk about the oc...|         1070|     32|\n",
      "|  xbBMVa2A68s_3|xbBMVa2A68s|Cat vs Dog - Best...|      TierZoo|         20|cat|dog|cute|gami...|373506|21420|     696|         5412|https://i.ytimg.c...|21.10|talk about the oc...|         1070|     32|\n",
      "|  xbBMVa2A68s_3|xbBMVa2A68s|Cat vs Dog - Best...|      TierZoo|         20|cat|dog|cute|gami...|366255|21196|     690|         5293|https://i.ytimg.c...|19.10|talk about the oc...|         1070|     32|\n",
      "|  xbBMVa2A68s_2|xbBMVa2A68s|Cat vs Dog - Best...|      TierZoo|         20|cat|dog|cute|gami...|320175|19593|     608|         4904|https://i.ytimg.c...|17.10|talk about the oc...|         1021|     32|\n",
      "|  xbBMVa2A68s_2|xbBMVa2A68s|Cat vs Dog - Best...|      TierZoo|         20|cat|dog|cute|gami...|366255|21196|     690|         5293|https://i.ytimg.c...|19.10|talk about the oc...|         1021|     32|\n",
      "|  xbBMVa2A68s_2|xbBMVa2A68s|Cat vs Dog - Best...|      TierZoo|         20|cat|dog|cute|gami...|370320|21325|     694|         5356|https://i.ytimg.c...|20.10|talk about the oc...|         1021|     32|\n",
      "|  xbBMVa2A68s_2|xbBMVa2A68s|Cat vs Dog - Best...|      TierZoo|         20|cat|dog|cute|gami...|356211|20865|     680|         5202|https://i.ytimg.c...|18.10|talk about the oc...|         1021|     32|\n",
      "|  xbBMVa2A68s_2|xbBMVa2A68s|Cat vs Dog - Best...|      TierZoo|         20|cat|dog|cute|gami...|373506|21420|     696|         5412|https://i.ytimg.c...|21.10|talk about the oc...|         1021|     32|\n",
      "|  xbBMVa2A68s_1|xbBMVa2A68s|Cat vs Dog - Best...|      TierZoo|         20|cat|dog|cute|gami...|370320|21325|     694|         5356|https://i.ytimg.c...|20.10|talk about the oc...|          957|     30|\n",
      "|  xbBMVa2A68s_1|xbBMVa2A68s|Cat vs Dog - Best...|      TierZoo|         20|cat|dog|cute|gami...|320175|19593|     608|         4904|https://i.ytimg.c...|17.10|talk about the oc...|          957|     30|\n",
      "|  xbBMVa2A68s_1|xbBMVa2A68s|Cat vs Dog - Best...|      TierZoo|         20|cat|dog|cute|gami...|356211|20865|     680|         5202|https://i.ytimg.c...|18.10|talk about the oc...|          957|     30|\n",
      "|  xbBMVa2A68s_1|xbBMVa2A68s|Cat vs Dog - Best...|      TierZoo|         20|cat|dog|cute|gami...|373506|21420|     696|         5412|https://i.ytimg.c...|21.10|talk about the oc...|          957|     30|\n",
      "|  xbBMVa2A68s_1|xbBMVa2A68s|Cat vs Dog - Best...|      TierZoo|         20|cat|dog|cute|gami...|366255|21196|     690|         5293|https://i.ytimg.c...|19.10|talk about the oc...|          957|     30|\n",
      "+---------------+-----------+--------------------+-------------+-----------+--------------------+------+-----+--------+-------------+--------------------+-----+--------------------+-------------+-------+\n",
      "only showing top 20 rows\n",
      "\n"
     ]
    }
   ],
   "source": [
    "salted_joined_df.orderBy(col('comment_likes').desc()).show(20)"
   ]
  },
  {
   "cell_type": "code",
   "execution_count": 46,
   "id": "aa7b0ea3-93a7-447d-95ac-f4784303195b",
   "metadata": {},
   "outputs": [
    {
     "name": "stdout",
     "output_type": "stream",
     "text": [
      "+-------------+--------------------+\n",
      "|comment_total|      thumbnail_link|\n",
      "+-------------+--------------------+\n",
      "|         4904|https://i.ytimg.c...|\n",
      "|         5356|https://i.ytimg.c...|\n",
      "|         5202|https://i.ytimg.c...|\n",
      "|         5412|https://i.ytimg.c...|\n",
      "|         5293|https://i.ytimg.c...|\n",
      "|         4904|https://i.ytimg.c...|\n",
      "|         5293|https://i.ytimg.c...|\n",
      "|         5356|https://i.ytimg.c...|\n",
      "|         5202|https://i.ytimg.c...|\n",
      "|         5412|https://i.ytimg.c...|\n",
      "|         4904|https://i.ytimg.c...|\n",
      "|         5356|https://i.ytimg.c...|\n",
      "|         5202|https://i.ytimg.c...|\n",
      "|         5412|https://i.ytimg.c...|\n",
      "|         5293|https://i.ytimg.c...|\n",
      "|         5356|https://i.ytimg.c...|\n",
      "|         5202|https://i.ytimg.c...|\n",
      "|         4904|https://i.ytimg.c...|\n",
      "|         5412|https://i.ytimg.c...|\n",
      "|         5293|https://i.ytimg.c...|\n",
      "+-------------+--------------------+\n",
      "only showing top 20 rows\n",
      "\n"
     ]
    }
   ],
   "source": [
    "salted_joined_df.orderBy(col('comment_likes').desc()).select('comment_total', 'thumbnail_link').show(20)"
   ]
  },
  {
   "cell_type": "markdown",
   "id": "6f3d9971-8b48-4c22-aa52-6eee6d370247",
   "metadata": {},
   "source": [
    "В данных есть полудубликаты, которые все же различаются по полям thumbnail_link и comment_total, так что финального результата дропаю их"
   ]
  },
  {
   "cell_type": "code",
   "execution_count": 47,
   "id": "aa4fd978-a1a3-4e28-b197-695836ac1c16",
   "metadata": {},
   "outputs": [
    {
     "name": "stdout",
     "output_type": "stream",
     "text": [
      "+-----------+--------------------+-------------+-------+\n",
      "|   video_id|        comment_text|comment_likes|replies|\n",
      "+-----------+--------------------+-------------+-------+\n",
      "|xbBMVa2A68s|The second I read...|         2355|     15|\n",
      "|-1fzGnFwz9M|I make interestin...|          839|      5|\n",
      "|xbBMVa2A68s|talk about the oc...|          802|     27|\n",
      "|tp9aQXDFHbY|Make sure to chec...|          194|     22|\n",
      "|tp9aQXDFHbY|If Simon will be ...|           37|      1|\n",
      "+-----------+--------------------+-------------+-------+\n",
      "only showing top 5 rows\n",
      "\n"
     ]
    }
   ],
   "source": [
    "salted_joined_df.drop_duplicates(['comment_text']).orderBy(col('comment_likes').desc()).select('video_id', 'comment_text', 'comment_likes', 'replies').show(5)"
   ]
  }
 ],
 "metadata": {
  "kernelspec": {
   "display_name": "Python 3 (ipykernel)",
   "language": "python",
   "name": "python3"
  },
  "language_info": {
   "codemirror_mode": {
    "name": "ipython",
    "version": 3
   },
   "file_extension": ".py",
   "mimetype": "text/x-python",
   "name": "python",
   "nbconvert_exporter": "python",
   "pygments_lexer": "ipython3",
   "version": "3.11.3"
  }
 },
 "nbformat": 4,
 "nbformat_minor": 5
}
