{
 "cells": [
  {
   "cell_type": "code",
   "execution_count": 42,
   "id": "4b94b2e0-3796-411b-ad82-1b56e7f89e1f",
   "metadata": {},
   "outputs": [],
   "source": [
    "import pyspark\n",
    "from pyspark.sql.functions import *\n",
    "from pyspark.sql.types import *\n",
    "from pyspark.sql import SparkSession\n",
    "\n",
    "import pandas as pd\n",
    "import random\n"
   ]
  },
  {
   "cell_type": "code",
   "execution_count": 94,
   "id": "7d28b0ea-0023-49e5-b6df-9b3a396d4679",
   "metadata": {},
   "outputs": [],
   "source": [
    "spark = SparkSession.builder.master(\"local\") \\\n",
    "    .config('spark.sql.autoBroadcastJoinThreshold', 0) \\\n",
    "    .config('spark.sql.adaptive.enabled', 'false') \\\n",
    "    .getOrCreate()"
   ]
  },
  {
   "cell_type": "code",
   "execution_count": 95,
   "id": "1c2a19f1-09d4-433b-bb14-495e1f69bf43",
   "metadata": {},
   "outputs": [
    {
     "name": "stdout",
     "output_type": "stream",
     "text": [
      "+-----------+--------------------+--------------------+-----------+--------------------+-------+------+--------+-------------+--------------------+-----+\n",
      "|   video_id|               title|       channel_title|category_id|                tags|  views| likes|dislikes|comment_total|      thumbnail_link| date|\n",
      "+-----------+--------------------+--------------------+-----------+--------------------+-------+------+--------+-------------+--------------------+-----+\n",
      "|XpVt6Z1Gjjo|1 YEAR OF VLOGGIN...|    Logan Paul Vlogs|         24|logan paul vlog|l...|4394029|320053|    5931|        46245|https://i.ytimg.c...|13.09|\n",
      "|K4wEI5zhHB0|iPhone X — Introd...|               Apple|         28|Apple|iPhone 10|i...|7860119|185853|   26679|            0|https://i.ytimg.c...|13.09|\n",
      "|cLdxuaxaQwc|         My Response|           PewDiePie|         22|              [none]|5845909|576597|   39774|       170708|https://i.ytimg.c...|13.09|\n",
      "|WYYvHb03Eog|Apple iPhone X fi...|           The Verge|         28|apple iphone x ha...|2642103| 24975|    4542|        12829|https://i.ytimg.c...|13.09|\n",
      "|sjlHnJvXdQs|   iPhone X (parody)|          jacksfilms|         23|jacksfilms|parody...|1168130| 96666|     568|         6666|https://i.ytimg.c...|13.09|\n",
      "|cMKX2tE5Luk|The Disaster Arti...|                 A24|          1|a24|a24 films|a24...|1311445| 34507|     544|         3040|https://i.ytimg.c...|13.09|\n",
      "|8wNr-NQImFg|The Check In: HUD...|Late Night with S...|         23|Late night|Seth M...| 666169|  9985|     297|         1071|https://i.ytimg.c...|13.09|\n",
      "|_HTXMhKWqnA|iPhone X Impressi...|    Marques Brownlee|         28|iPhone X|iphone x...|1728614| 74062|    2180|        15297|https://i.ytimg.c...|13.09|\n",
      "|_ANP3HR1jsM|ATTACKED BY A POL...|    RomanAtwoodVlogs|         22|Roman Atwood|Roma...|1338533| 69687|     678|         5643|https://i.ytimg.c...|13.09|\n",
      "|zgLtEob6X-Q|Honest Trailers -...|      Screen Junkies|          1|screenjunkies|scr...|1056891| 29943|     878|         4046|https://i.ytimg.c...|13.09|\n",
      "|Ayb_2qbZHm4| Honest College Tour|        CollegeHumor|         23|Collegehumor|CH o...| 859289| 34485|     726|         1914|https://i.ytimg.c...|13.09|\n",
      "|CsdzflTXBVQ|Best Floyd Maywea...|     Awkward Puppets|         23|best floyd maywea...| 452477| 28050|     405|         2745|https://i.ytimg.c...|13.09|\n",
      "|l864IBj7cgw|Jennifer Lawrence...|The Tonight Show ...|         23|The Tonight Show|...| 258781|  8085|     303|          726|https://i.ytimg.c...|13.09|\n",
      "|4MkC65emkG4|Hand In Hand A Be...|                 MTV|         24|mtv|video|online|...| 274358|  9215|     477|          838|https://i.ytimg.c...|13.09|\n",
      "|vu_9muoxT50|Colin Cloud: Mind...|America's Got Talent|         24|America's Got Tal...| 473691| 14740|     415|         1696|https://i.ytimg.c...|13.09|\n",
      "|1L7JFN7tQLs|iPhone X Hands on...|   Jonathan Morrison|         28|Apple|iPhone X|iP...| 514972| 18936|     641|         3817|https://i.ytimg.c...|13.09|\n",
      "|ZQK1F0wz6z4|What Do You Want ...| Wong Fu Productions|         24|panda|what should...| 282858| 14870|     300|         1398|https://i.ytimg.c...|13.09|\n",
      "|T_PuZBdT2iM|getting into a co...|               ProZD|          1|skit|korean|langu...|1582683| 65749|    1531|         3598|https://i.ytimg.c...|13.09|\n",
      "|w8fAellnPns|Juicy Chicken Bre...| You Suck At Cooking|         26|how to|cooking|re...| 479951| 23945|     640|         1941|https://i.ytimg.c...|13.09|\n",
      "|UCrBICYM0yM|Downsizing (2017)...|  Paramount Pictures|          1|downsizing|previe...|2693468|  7941|     302|         1432|https://i.ytimg.c...|13.09|\n",
      "+-----------+--------------------+--------------------+-----------+--------------------+-------+------+--------+-------------+--------------------+-----+\n",
      "only showing top 20 rows\n",
      "\n"
     ]
    }
   ],
   "source": [
    "videos = spark.read.option('header', 'true').option(\"inferSchema\", \"true\").csv('../datasets/USvideos.csv')\n",
    "videos.show()"
   ]
  },
  {
   "cell_type": "code",
   "execution_count": 96,
   "id": "805005cc-0c92-45e3-ab79-44a348f9c2d3",
   "metadata": {},
   "outputs": [
    {
     "name": "stdout",
     "output_type": "stream",
     "text": [
      "+-----------+--------------------+-----+-------+\n",
      "|   video_id|        comment_text|likes|replies|\n",
      "+-----------+--------------------+-----+-------+\n",
      "|XpVt6Z1Gjjo|Logan Paul it's y...|    4|      0|\n",
      "|XpVt6Z1Gjjo|I've been followi...|    3|      0|\n",
      "|XpVt6Z1Gjjo|Say hi to Kong an...|    3|      0|\n",
      "|XpVt6Z1Gjjo| MY FAN . attendance|    3|      0|\n",
      "|XpVt6Z1Gjjo|         trending 😉|    3|      0|\n",
      "|XpVt6Z1Gjjo|#1 on trending AY...|    3|      0|\n",
      "|XpVt6Z1Gjjo|The end though 😭...|    4|      0|\n",
      "|XpVt6Z1Gjjo|#1 trending!!!!!!!!!|    3|      0|\n",
      "|XpVt6Z1Gjjo|Happy one year vl...|    3|      0|\n",
      "|XpVt6Z1Gjjo|You and your shit...|    0|      0|\n",
      "|XpVt6Z1Gjjo|There should be a...|    0|      0|\n",
      "|XpVt6Z1Gjjo|Dear Logan, I rea...|    0|      0|\n",
      "|XpVt6Z1Gjjo|Honestly Evan is ...|    0|      0|\n",
      "|XpVt6Z1Gjjo|Casey is still be...|    0|      0|\n",
      "|XpVt6Z1Gjjo|aw geez rick this...|    0|      0|\n",
      "|XpVt6Z1Gjjo|He happy cause he...|    0|      0|\n",
      "|XpVt6Z1Gjjo|Ayyyyoooo Logang ...|    1|      0|\n",
      "|XpVt6Z1Gjjo|Bro y didnt u giv...|    0|      0|\n",
      "|XpVt6Z1Gjjo|It's been fun wat...|    3|      0|\n",
      "|XpVt6Z1Gjjo|Made a lot of peo...|    0|      0|\n",
      "+-----------+--------------------+-----+-------+\n",
      "only showing top 20 rows\n",
      "\n"
     ]
    }
   ],
   "source": [
    "comments_schema = StructType([ \\\n",
    "    StructField(\"video_id\", StringType(), True), \\\n",
    "    StructField(\"comment_text\", StringType(), True), \\\n",
    "    StructField(\"likes\", IntegerType(), True), \\\n",
    "    StructField(\"replies\", IntegerType(), True)])\n",
    "comments = spark.read.option('header', 'true').option(\"mode\", \"DROPMALFORMED\").schema(comments_schema).csv('../datasets/UScomments.csv')\n",
    "comments.show()"
   ]
  },
  {
   "cell_type": "code",
   "execution_count": 97,
   "id": "42a166b4-5280-413f-823a-abb276e0eb14",
   "metadata": {},
   "outputs": [],
   "source": [
    "DATA_PATH = \"../datasets\""
   ]
  },
  {
   "cell_type": "markdown",
   "id": "19b3ab52-1fbf-45aa-931e-4bdb01706756",
   "metadata": {},
   "source": [
    "# task 1"
   ]
  },
  {
   "cell_type": "code",
   "execution_count": 98,
   "id": "f9a902ba-16b3-4c58-ab2c-065255bce273",
   "metadata": {},
   "outputs": [
    {
     "data": {
      "text/plain": [
       "['video_id',\n",
       " 'title',\n",
       " 'channel_title',\n",
       " 'category_id',\n",
       " 'tags',\n",
       " 'views',\n",
       " 'likes',\n",
       " 'dislikes',\n",
       " 'comment_total',\n",
       " 'thumbnail_link',\n",
       " 'date']"
      ]
     },
     "execution_count": 98,
     "metadata": {},
     "output_type": "execute_result"
    }
   ],
   "source": [
    "videos.columns"
   ]
  },
  {
   "cell_type": "markdown",
   "id": "9b1bba7b-dba6-43b8-ac37-7b2b47bf83f8",
   "metadata": {},
   "source": [
    "score = (1/100) * views + 10 * likes - 15 * dislikes + sqrt(comment_total)"
   ]
  },
  {
   "cell_type": "code",
   "execution_count": 99,
   "id": "042d9b8b-a14a-4744-bb4e-00154a37a433",
   "metadata": {},
   "outputs": [],
   "source": [
    "scored_videos = videos.withColumn('score', 0.01 * col('views') + 10 * col('likes') \n",
    "                           - 15 * col('dislikes') + sqrt(col('comment_total')))"
   ]
  },
  {
   "cell_type": "code",
   "execution_count": 100,
   "id": "43971b84-38bd-49b2-a858-d529760ed772",
   "metadata": {},
   "outputs": [
    {
     "name": "stdout",
     "output_type": "stream",
     "text": [
      "+-----------+--------------------+-------+------+--------+-------------+------------------+\n",
      "|   video_id|               title|  views| likes|dislikes|comment_total|             score|\n",
      "+-----------+--------------------+-------+------+--------+-------------+------------------+\n",
      "|XpVt6Z1Gjjo|1 YEAR OF VLOGGIN...|4394029|320053|    5931|        46245| 3155720.336506598|\n",
      "|K4wEI5zhHB0|iPhone X — Introd...|7860119|185853|   26679|            0|        1536946.19|\n",
      "|cLdxuaxaQwc|         My Response|5845909|576597|   39774|       170708| 5228232.258246602|\n",
      "|WYYvHb03Eog|Apple iPhone X fi...|2642103| 24975|    4542|        12829| 208154.2951755837|\n",
      "|sjlHnJvXdQs|   iPhone X (parody)|1168130| 96666|     568|         6666| 969902.9455755078|\n",
      "|cMKX2tE5Luk|The Disaster Arti...|1311445| 34507|     544|         3040|350079.58619500836|\n",
      "|8wNr-NQImFg|The Check In: HUD...| 666169|  9985|     297|         1071| 102089.4161363439|\n",
      "|_HTXMhKWqnA|iPhone X Impressi...|1728614| 74062|    2180|        15297| 725329.8210413927|\n",
      "|_ANP3HR1jsM|ATTACKED BY A POL...|1338533| 69687|     678|         5643| 700160.4499041532|\n",
      "|zgLtEob6X-Q|Honest Trailers -...|1056891| 29943|     878|         4046| 296892.5181755751|\n",
      "+-----------+--------------------+-------+------+--------+-------------+------------------+\n",
      "only showing top 10 rows\n",
      "\n"
     ]
    }
   ],
   "source": [
    "scored_videos.select('video_id', 'title', 'views', 'likes', 'dislikes', 'comment_total', 'score').show(10)"
   ]
  },
  {
   "cell_type": "code",
   "execution_count": 101,
   "id": "e836d559-b726-4313-be14-833e2b4f2ab4",
   "metadata": {},
   "outputs": [],
   "source": [
    "scored_videos.toPandas().to_csv(f'{DATA_PATH}/scored_videos.csv')"
   ]
  },
  {
   "cell_type": "markdown",
   "id": "66166806-9bd8-474c-ab91-33019e5fccc2",
   "metadata": {},
   "source": [
    "# task 2"
   ]
  },
  {
   "cell_type": "code",
   "execution_count": 102,
   "id": "afd56355-cc4f-403a-9578-61ecbe7e6b37",
   "metadata": {},
   "outputs": [
    {
     "name": "stderr",
     "output_type": "stream",
     "text": [
      "/usr/local/spark/python/pyspark/sql/pandas/functions.py:399: UserWarning: In Python 3.6+ and Spark 3.0+, it is preferred to specify type hints for pandas UDF instead of specifying pandas UDF type which will be deprecated in the future releases. See SPARK-28264 for more details.\n",
      "  warnings.warn(\n"
     ]
    }
   ],
   "source": [
    "@pandas_udf(\"double\", PandasUDFType.GROUPED_AGG)\n",
    "def median_udf(v):\n",
    "    return v.median()"
   ]
  },
  {
   "cell_type": "code",
   "execution_count": 105,
   "id": "84385ee7-4620-43da-ba82-a760e7aebaed",
   "metadata": {},
   "outputs": [],
   "source": [
    "categories_score = scored_videos.groupBy('category_id').agg(median_udf(scored_videos['score']))"
   ]
  },
  {
   "cell_type": "code",
   "execution_count": 106,
   "id": "d37d73fe-6ac6-40c9-a0b5-8b74ce94d3c1",
   "metadata": {},
   "outputs": [
    {
     "name": "stdout",
     "output_type": "stream",
     "text": [
      "+-----------+------------------+\n",
      "|category_id| median_udf(score)|\n",
      "+-----------+------------------+\n",
      "|         28|102567.77283471046|\n",
      "|         26|126031.98011930188|\n",
      "|         27| 79894.36059730663|\n",
      "|         22|101447.21589471283|\n",
      "|          1|  65593.8399499765|\n",
      "|         20| 39963.75209422822|\n",
      "|         19| 82743.32745776343|\n",
      "|         15| 74935.35694380733|\n",
      "|         43|1088.5077625302981|\n",
      "|         17| 16810.32820955084|\n",
      "|         23|252648.44692637963|\n",
      "|         10|106786.23916534703|\n",
      "|         25| 5973.396500846582|\n",
      "|         24|  84878.1513075057|\n",
      "|         29| 5566.432886552931|\n",
      "|          2| 13116.75154961165|\n",
      "+-----------+------------------+\n",
      "\n"
     ]
    }
   ],
   "source": [
    "categories_score.show()"
   ]
  },
  {
   "cell_type": "code",
   "execution_count": 107,
   "id": "58776365-0623-4249-baca-126e315ba9a9",
   "metadata": {},
   "outputs": [],
   "source": [
    "categories_score.toPandas().to_csv(f'{DATA_PATH}/categories_score.csv')"
   ]
  },
  {
   "cell_type": "markdown",
   "id": "1711fd6a-41ff-48ba-8a2e-25647b984fd3",
   "metadata": {},
   "source": [
    "не id, он непонятный для аналитиков! -- я не совсем понял, чего хотелось вместо id здесь, так что оставил id"
   ]
  },
  {
   "cell_type": "markdown",
   "id": "a55e899c-d900-4c94-8d32-8494b8194ed8",
   "metadata": {},
   "source": [
    "# task 3"
   ]
  },
  {
   "cell_type": "code",
   "execution_count": 108,
   "id": "27520b77-8b00-4482-a9c6-009f2e3e6ffc",
   "metadata": {},
   "outputs": [
    {
     "name": "stdout",
     "output_type": "stream",
     "text": [
      "root\n",
      " |-- video_id: string (nullable = true)\n",
      " |-- title: string (nullable = true)\n",
      " |-- channel_title: string (nullable = true)\n",
      " |-- category_id: integer (nullable = true)\n",
      " |-- tags: string (nullable = true)\n",
      " |-- views: integer (nullable = true)\n",
      " |-- likes: integer (nullable = true)\n",
      " |-- dislikes: integer (nullable = true)\n",
      " |-- comment_total: integer (nullable = true)\n",
      " |-- thumbnail_link: string (nullable = true)\n",
      " |-- date: string (nullable = true)\n",
      "\n"
     ]
    }
   ],
   "source": [
    "videos.printSchema()"
   ]
  },
  {
   "cell_type": "code",
   "execution_count": 109,
   "id": "33e13397-eaf2-4ec7-9aad-0393bb3d84bc",
   "metadata": {},
   "outputs": [
    {
     "name": "stderr",
     "output_type": "stream",
     "text": [
      "/usr/local/spark/python/pyspark/sql/pandas/functions.py:399: UserWarning: In Python 3.6+ and Spark 3.0+, it is preferred to specify type hints for pandas UDF instead of specifying pandas UDF type which will be deprecated in the future releases. See SPARK-28264 for more details.\n",
      "  warnings.warn(\n"
     ]
    }
   ],
   "source": [
    "@pandas_udf(\"array<string>\", PandasUDFType.SCALAR)\n",
    "def split_udf(v):\n",
    "    return v.str.split(\"|\")"
   ]
  },
  {
   "cell_type": "code",
   "execution_count": 110,
   "id": "91fae11c-ea67-44ac-9e49-17452bf1cd64",
   "metadata": {},
   "outputs": [
    {
     "name": "stdout",
     "output_type": "stream",
     "text": [
      "+--------------------+\n",
      "|     split_udf(tags)|\n",
      "+--------------------+\n",
      "|[logan paul vlog,...|\n",
      "|[Apple, iPhone 10...|\n",
      "|            [[none]]|\n",
      "|[apple iphone x h...|\n",
      "|[jacksfilms, paro...|\n",
      "|[a24, a24 films, ...|\n",
      "|[Late night, Seth...|\n",
      "|[iPhone X, iphone...|\n",
      "|[Roman Atwood, Ro...|\n",
      "|[screenjunkies, s...|\n",
      "|[Collegehumor, CH...|\n",
      "|[best floyd maywe...|\n",
      "|[The Tonight Show...|\n",
      "|[mtv, video, onli...|\n",
      "|[America's Got Ta...|\n",
      "|[Apple, iPhone X,...|\n",
      "|[panda, what shou...|\n",
      "|[skit, korean, la...|\n",
      "|[how to, cooking,...|\n",
      "|[downsizing, prev...|\n",
      "+--------------------+\n",
      "only showing top 20 rows\n",
      "\n"
     ]
    }
   ],
   "source": [
    "videos.select(split_udf(col(\"tags\"))).show()"
   ]
  },
  {
   "cell_type": "code",
   "execution_count": 111,
   "id": "0a0e36f1-d512-4fb7-a187-54b0965164d2",
   "metadata": {},
   "outputs": [
    {
     "ename": "NameError",
     "evalue": "name 'splitTagsUDF' is not defined",
     "output_type": "error",
     "traceback": [
      "\u001b[0;31m---------------------------------------------------------------------------\u001b[0m",
      "\u001b[0;31mNameError\u001b[0m                                 Traceback (most recent call last)",
      "Cell \u001b[0;32mIn[111], line 1\u001b[0m\n\u001b[0;32m----> 1\u001b[0m videos\u001b[38;5;241m.\u001b[39mselect(\u001b[43msplitTagsUDF\u001b[49m(col(\u001b[38;5;124m\"\u001b[39m\u001b[38;5;124mtags\u001b[39m\u001b[38;5;124m\"\u001b[39m)))\u001b[38;5;241m.\u001b[39mshow()\n",
      "\u001b[0;31mNameError\u001b[0m: name 'splitTagsUDF' is not defined"
     ]
    }
   ],
   "source": [
    "videos.select(splitTagsUDF(col(\"tags\"))).show()"
   ]
  },
  {
   "cell_type": "code",
   "execution_count": 112,
   "id": "51aea7a3-4c4f-499c-b8f6-0cb078a4e273",
   "metadata": {},
   "outputs": [],
   "source": [
    "map = videos.select(split_udf(col(\"tags\"))).rdd.flatMap(lambda x: \n",
    "                                                        x).flatMap(lambda x: x).countByValue().items()"
   ]
  },
  {
   "cell_type": "code",
   "execution_count": 113,
   "id": "b1ab009b-dc46-42d1-a49c-6ff446b742aa",
   "metadata": {},
   "outputs": [
    {
     "name": "stdout",
     "output_type": "stream",
     "text": [
      "root\n",
      " |-- tag: string (nullable = true)\n",
      " |-- count: long (nullable = true)\n",
      "\n",
      "+--------------------+-----+\n",
      "|                 tag|count|\n",
      "+--------------------+-----+\n",
      "|     logan paul vlog|   13|\n",
      "|          logan paul|   29|\n",
      "|               logan|   29|\n",
      "|                paul|   25|\n",
      "|            olympics|   14|\n",
      "|  logan paul youtube|   13|\n",
      "|                vlog|  273|\n",
      "|               daily|   73|\n",
      "|              comedy|  572|\n",
      "|           hollywood|  150|\n",
      "|              parrot|   13|\n",
      "|            maverick|   18|\n",
      "|                bird|   13|\n",
      "|    maverick clothes|   13|\n",
      "| diamond play button|    7|\n",
      "|logan paul diamon...|    7|\n",
      "|     10M subscribers|    7|\n",
      "|logan paul 1 year...|    7|\n",
      "|         1 year vlog|    7|\n",
      "|dwarf mamba play ...|    7|\n",
      "+--------------------+-----+\n",
      "only showing top 20 rows\n",
      "\n"
     ]
    }
   ],
   "source": [
    "popular_tags = spark.createDataFrame(data=map, schema = [\"tag\", \"count\"])\n",
    "popular_tags.printSchema()\n",
    "popular_tags.show()"
   ]
  },
  {
   "cell_type": "code",
   "execution_count": 114,
   "id": "e9d4c550-0a35-40d4-83f9-ca23fb095fef",
   "metadata": {},
   "outputs": [],
   "source": [
    "popular_tags.toPandas().to_csv(f'{DATA_PATH}/popular_tags.csv')"
   ]
  },
  {
   "cell_type": "markdown",
   "id": "ebadd1cc-fac8-4fff-ab5a-f42dec9dc77b",
   "metadata": {},
   "source": [
    "# task 4"
   ]
  },
  {
   "cell_type": "code",
   "execution_count": 74,
   "id": "68c9d4fb-1e67-4b59-8e86-d53fb6850086",
   "metadata": {},
   "outputs": [],
   "source": [
    "cat_tags = (lower(col('tags')).startswith('cat|') | lower(col('tags')).contains('|cat|') \n",
    "           | lower(col('tags')).endswith('|cat'))\n",
    "\n",
    "\n",
    "has_comments = (col('comment_total')>0)\n",
    "\n",
    "cat_video = videos.filter(cat_tags & has_comments)"
   ]
  },
  {
   "cell_type": "code",
   "execution_count": 75,
   "id": "ff26e4a1-8b30-46a0-b9f8-e556b0a1aba0",
   "metadata": {},
   "outputs": [
    {
     "name": "stdout",
     "output_type": "stream",
     "text": [
      "+--------------------+\n",
      "|                tags|\n",
      "+--------------------+\n",
      "|Maru|cat|kitty|pe...|\n",
      "|SciShow|science|H...|\n",
      "|cartoon|simons ca...|\n",
      "|Maru|cat|kitty|pe...|\n",
      "|SciShow|science|H...|\n",
      "|Maru|cat|kitty|pe...|\n",
      "|Maru|cat|kitty|pe...|\n",
      "|cartoon|simons ca...|\n",
      "|Husky's First How...|\n",
      "|cartoon|simons ca...|\n",
      "+--------------------+\n",
      "only showing top 10 rows\n",
      "\n"
     ]
    }
   ],
   "source": [
    "cat_video.select('tags').show(10)"
   ]
  },
  {
   "cell_type": "code",
   "execution_count": 76,
   "id": "6e465324-19f3-4416-b492-004a30b9e3e9",
   "metadata": {},
   "outputs": [],
   "source": [
    "def rand(): \n",
    "    return random.randint(0, 3) \n",
    "    \n",
    "rand_udf = udf(rand)\n",
    "\n",
    "salt_df = spark.range(0, 4)\n",
    "\n",
    "salted_comments = comments.withColumn(\"salted_video_id\", concat(\"video_id\", lit(\"_\"), lit(rand_udf())))"
   ]
  },
  {
   "cell_type": "code",
   "execution_count": 77,
   "id": "a123ba5b-1ac9-4eba-86e3-cc672afe77ac",
   "metadata": {},
   "outputs": [
    {
     "name": "stdout",
     "output_type": "stream",
     "text": [
      "+-----------+--------------------+-----+-------+---------------+\n",
      "|   video_id|        comment_text|likes|replies|salted_video_id|\n",
      "+-----------+--------------------+-----+-------+---------------+\n",
      "|XpVt6Z1Gjjo|Logan Paul it's y...|    4|      0|  XpVt6Z1Gjjo_3|\n",
      "|XpVt6Z1Gjjo|I've been followi...|    3|      0|  XpVt6Z1Gjjo_2|\n",
      "|XpVt6Z1Gjjo|Say hi to Kong an...|    3|      0|  XpVt6Z1Gjjo_0|\n",
      "|XpVt6Z1Gjjo| MY FAN . attendance|    3|      0|  XpVt6Z1Gjjo_2|\n",
      "|XpVt6Z1Gjjo|         trending 😉|    3|      0|  XpVt6Z1Gjjo_0|\n",
      "|XpVt6Z1Gjjo|#1 on trending AY...|    3|      0|  XpVt6Z1Gjjo_3|\n",
      "|XpVt6Z1Gjjo|The end though 😭...|    4|      0|  XpVt6Z1Gjjo_2|\n",
      "|XpVt6Z1Gjjo|#1 trending!!!!!!!!!|    3|      0|  XpVt6Z1Gjjo_3|\n",
      "|XpVt6Z1Gjjo|Happy one year vl...|    3|      0|  XpVt6Z1Gjjo_1|\n",
      "|XpVt6Z1Gjjo|You and your shit...|    0|      0|  XpVt6Z1Gjjo_0|\n",
      "+-----------+--------------------+-----+-------+---------------+\n",
      "only showing top 10 rows\n",
      "\n"
     ]
    }
   ],
   "source": [
    "salted_comments.show(10)"
   ]
  },
  {
   "cell_type": "code",
   "execution_count": 78,
   "id": "e7088bf4-148f-45e0-900d-9f20af081276",
   "metadata": {},
   "outputs": [],
   "source": [
    "salted_cat_video = cat_video.join(salt_df, \n",
    "                            how=\"cross\").withColumn(\"salted_video_id\", concat(\"video_id\", lit(\"_\"), \"id\")).drop(\"id\")\n"
   ]
  },
  {
   "cell_type": "code",
   "execution_count": 83,
   "id": "7086101e-d3ac-4691-9760-0c7f4e6eafee",
   "metadata": {},
   "outputs": [],
   "source": [
    "salted_joined_df = salted_cat_video.join(salted_comments.withColumnRenamed( 'likes', 'comment_likes').drop('video_id'), on=\"salted_video_id\", how=\"inner\")\n"
   ]
  },
  {
   "cell_type": "code",
   "execution_count": null,
   "id": "7961d87a-5574-47d6-bcfe-ce4fd2ce798f",
   "metadata": {},
   "outputs": [],
   "source": []
  },
  {
   "cell_type": "code",
   "execution_count": 88,
   "id": "c8c8e7e9-3a03-40f2-a52c-878b4c12b5aa",
   "metadata": {},
   "outputs": [
    {
     "name": "stdout",
     "output_type": "stream",
     "text": [
      "+---------------+-----------+--------------------+-------------+-----------+--------------------+------+-----+--------+-------------+--------------------+-----+--------------------+-------------+-------+\n",
      "|salted_video_id|   video_id|               title|channel_title|category_id|                tags| views|likes|dislikes|comment_total|      thumbnail_link| date|        comment_text|comment_likes|replies|\n",
      "+---------------+-----------+--------------------+-------------+-----------+--------------------+------+-----+--------+-------------+--------------------+-----+--------------------+-------------+-------+\n",
      "|  xbBMVa2A68s_0|xbBMVa2A68s|Cat vs Dog - Best...|      TierZoo|         20|cat|dog|cute|gami...|320175|19593|     608|         4904|https://i.ytimg.c...|17.10|The second I read...|         2355|     15|\n",
      "|  xbBMVa2A68s_0|xbBMVa2A68s|Cat vs Dog - Best...|      TierZoo|         20|cat|dog|cute|gami...|356211|20865|     680|         5202|https://i.ytimg.c...|18.10|The second I read...|         2355|     15|\n",
      "|  xbBMVa2A68s_0|xbBMVa2A68s|Cat vs Dog - Best...|      TierZoo|         20|cat|dog|cute|gami...|366255|21196|     690|         5293|https://i.ytimg.c...|19.10|The second I read...|         2355|     15|\n",
      "|  xbBMVa2A68s_0|xbBMVa2A68s|Cat vs Dog - Best...|      TierZoo|         20|cat|dog|cute|gami...|370320|21325|     694|         5356|https://i.ytimg.c...|20.10|The second I read...|         2355|     15|\n",
      "|  xbBMVa2A68s_0|xbBMVa2A68s|Cat vs Dog - Best...|      TierZoo|         20|cat|dog|cute|gami...|373506|21420|     696|         5412|https://i.ytimg.c...|21.10|The second I read...|         2355|     15|\n",
      "|  xbBMVa2A68s_3|xbBMVa2A68s|Cat vs Dog - Best...|      TierZoo|         20|cat|dog|cute|gami...|320175|19593|     608|         4904|https://i.ytimg.c...|17.10|talk about the oc...|         1070|     32|\n",
      "|  xbBMVa2A68s_3|xbBMVa2A68s|Cat vs Dog - Best...|      TierZoo|         20|cat|dog|cute|gami...|356211|20865|     680|         5202|https://i.ytimg.c...|18.10|talk about the oc...|         1070|     32|\n",
      "|  xbBMVa2A68s_3|xbBMVa2A68s|Cat vs Dog - Best...|      TierZoo|         20|cat|dog|cute|gami...|366255|21196|     690|         5293|https://i.ytimg.c...|19.10|talk about the oc...|         1070|     32|\n",
      "|  xbBMVa2A68s_3|xbBMVa2A68s|Cat vs Dog - Best...|      TierZoo|         20|cat|dog|cute|gami...|370320|21325|     694|         5356|https://i.ytimg.c...|20.10|talk about the oc...|         1070|     32|\n",
      "|  xbBMVa2A68s_3|xbBMVa2A68s|Cat vs Dog - Best...|      TierZoo|         20|cat|dog|cute|gami...|373506|21420|     696|         5412|https://i.ytimg.c...|21.10|talk about the oc...|         1070|     32|\n",
      "|  xbBMVa2A68s_1|xbBMVa2A68s|Cat vs Dog - Best...|      TierZoo|         20|cat|dog|cute|gami...|320175|19593|     608|         4904|https://i.ytimg.c...|17.10|talk about the oc...|         1021|     32|\n",
      "|  xbBMVa2A68s_1|xbBMVa2A68s|Cat vs Dog - Best...|      TierZoo|         20|cat|dog|cute|gami...|356211|20865|     680|         5202|https://i.ytimg.c...|18.10|talk about the oc...|         1021|     32|\n",
      "|  xbBMVa2A68s_1|xbBMVa2A68s|Cat vs Dog - Best...|      TierZoo|         20|cat|dog|cute|gami...|366255|21196|     690|         5293|https://i.ytimg.c...|19.10|talk about the oc...|         1021|     32|\n",
      "|  xbBMVa2A68s_1|xbBMVa2A68s|Cat vs Dog - Best...|      TierZoo|         20|cat|dog|cute|gami...|370320|21325|     694|         5356|https://i.ytimg.c...|20.10|talk about the oc...|         1021|     32|\n",
      "|  xbBMVa2A68s_1|xbBMVa2A68s|Cat vs Dog - Best...|      TierZoo|         20|cat|dog|cute|gami...|373506|21420|     696|         5412|https://i.ytimg.c...|21.10|talk about the oc...|         1021|     32|\n",
      "|  xbBMVa2A68s_0|xbBMVa2A68s|Cat vs Dog - Best...|      TierZoo|         20|cat|dog|cute|gami...|320175|19593|     608|         4904|https://i.ytimg.c...|17.10|talk about the oc...|          957|     30|\n",
      "|  xbBMVa2A68s_0|xbBMVa2A68s|Cat vs Dog - Best...|      TierZoo|         20|cat|dog|cute|gami...|356211|20865|     680|         5202|https://i.ytimg.c...|18.10|talk about the oc...|          957|     30|\n",
      "|  xbBMVa2A68s_0|xbBMVa2A68s|Cat vs Dog - Best...|      TierZoo|         20|cat|dog|cute|gami...|366255|21196|     690|         5293|https://i.ytimg.c...|19.10|talk about the oc...|          957|     30|\n",
      "|  xbBMVa2A68s_0|xbBMVa2A68s|Cat vs Dog - Best...|      TierZoo|         20|cat|dog|cute|gami...|370320|21325|     694|         5356|https://i.ytimg.c...|20.10|talk about the oc...|          957|     30|\n",
      "|  xbBMVa2A68s_0|xbBMVa2A68s|Cat vs Dog - Best...|      TierZoo|         20|cat|dog|cute|gami...|373506|21420|     696|         5412|https://i.ytimg.c...|21.10|talk about the oc...|          957|     30|\n",
      "+---------------+-----------+--------------------+-------------+-----------+--------------------+------+-----+--------+-------------+--------------------+-----+--------------------+-------------+-------+\n",
      "only showing top 20 rows\n",
      "\n"
     ]
    }
   ],
   "source": [
    "salted_joined_df.orderBy(col('comment_likes').desc()).show(20)"
   ]
  },
  {
   "cell_type": "code",
   "execution_count": 90,
   "id": "aa7b0ea3-93a7-447d-95ac-f4784303195b",
   "metadata": {},
   "outputs": [
    {
     "name": "stdout",
     "output_type": "stream",
     "text": [
      "+-------------+--------------------+\n",
      "|comment_total|      thumbnail_link|\n",
      "+-------------+--------------------+\n",
      "|         4904|https://i.ytimg.c...|\n",
      "|         5202|https://i.ytimg.c...|\n",
      "|         5293|https://i.ytimg.c...|\n",
      "|         5356|https://i.ytimg.c...|\n",
      "|         5412|https://i.ytimg.c...|\n",
      "|         4904|https://i.ytimg.c...|\n",
      "|         5202|https://i.ytimg.c...|\n",
      "|         5293|https://i.ytimg.c...|\n",
      "|         5356|https://i.ytimg.c...|\n",
      "|         5412|https://i.ytimg.c...|\n",
      "|         4904|https://i.ytimg.c...|\n",
      "|         5202|https://i.ytimg.c...|\n",
      "|         5293|https://i.ytimg.c...|\n",
      "|         5356|https://i.ytimg.c...|\n",
      "|         5412|https://i.ytimg.c...|\n",
      "|         4904|https://i.ytimg.c...|\n",
      "|         5202|https://i.ytimg.c...|\n",
      "|         5293|https://i.ytimg.c...|\n",
      "|         5356|https://i.ytimg.c...|\n",
      "|         5412|https://i.ytimg.c...|\n",
      "+-------------+--------------------+\n",
      "only showing top 20 rows\n",
      "\n"
     ]
    }
   ],
   "source": [
    "salted_joined_df.orderBy(col('comment_likes').desc()).select('comment_total', 'thumbnail_link').show(20)"
   ]
  },
  {
   "cell_type": "markdown",
   "id": "6f3d9971-8b48-4c22-aa52-6eee6d370247",
   "metadata": {},
   "source": [
    "В данных есть полудубликаты, которые все же различаются по полям thumbnail_link и comment_total, так что финального результата дропаю их"
   ]
  },
  {
   "cell_type": "code",
   "execution_count": 93,
   "id": "aa4fd978-a1a3-4e28-b197-695836ac1c16",
   "metadata": {},
   "outputs": [
    {
     "name": "stdout",
     "output_type": "stream",
     "text": [
      "+-----------+--------------------+-------------+-------+\n",
      "|   video_id|        comment_text|comment_likes|replies|\n",
      "+-----------+--------------------+-------------+-------+\n",
      "|xbBMVa2A68s|The second I read...|         2355|     15|\n",
      "|-1fzGnFwz9M|I make interestin...|          839|      5|\n",
      "|tp9aQXDFHbY|Make sure to chec...|          194|     22|\n",
      "|xbBMVa2A68s|talk about the oc...|          118|     11|\n",
      "|tp9aQXDFHbY|1:51 so your nuts...|          100|      5|\n",
      "+-----------+--------------------+-------------+-------+\n",
      "only showing top 5 rows\n",
      "\n"
     ]
    }
   ],
   "source": [
    "salted_joined_df.drop_duplicates(['comment_text']).orderBy(col('comment_likes').desc()).select('video_id', 'comment_text', 'comment_likes', 'replies').show(5)"
   ]
  }
 ],
 "metadata": {
  "kernelspec": {
   "display_name": "Python 3 (ipykernel)",
   "language": "python",
   "name": "python3"
  },
  "language_info": {
   "codemirror_mode": {
    "name": "ipython",
    "version": 3
   },
   "file_extension": ".py",
   "mimetype": "text/x-python",
   "name": "python",
   "nbconvert_exporter": "python",
   "pygments_lexer": "ipython3",
   "version": "3.11.3"
  }
 },
 "nbformat": 4,
 "nbformat_minor": 5
}
